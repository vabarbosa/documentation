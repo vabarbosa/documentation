{
 "cells": [
  {
   "cell_type": "markdown",
   "id": "8cefe278-60a0-4980-a0c4-b2f5806d15b7",
   "metadata": {},
   "source": [
    "# Measure qubits"
   ]
  },
  {
   "cell_type": "markdown",
   "id": "3b56a673-37b7-4837-b718-9d30d26ad87e",
   "metadata": {
    "tags": [
     "version-info"
    ]
   },
   "source": [
    "<details>\n",
    "<summary><b>Package versions</b></summary>\n",
    "\n",
    "The code on this page was developed using the following requirements.\n",
    "We recommend using these versions or newer.\n",
    "\n",
    "```\n",
    "qiskit[all]~=2.1.1\n",
    "```\n",
    "</details>"
   ]
  },
  {
   "cell_type": "markdown",
   "id": "99224c00-ef6f-4dad-98a8-df5702aa6bc3",
   "metadata": {},
   "source": [
    "To get information about a qubit's state, you can _measure_ it onto a [classical bit](/docs/api/qiskit/circuit#qiskit.circuit.Clbit). In Qiskit, measurements are performed in the computational basis, that is, the single-qubit Pauli-$Z$ basis. Therefore, a measurement yields 0 or 1, depending on the overlap with the Pauli-$Z$ eigenstates $|0\\rangle$ and $|1\\rangle$:\n",
    "\n",
    "$$\n",
    "|q\\rangle \\xrightarrow{measure}\\begin{cases}\n",
    "      0 (\\text{outcome}+1), \\text{with probability } p_0=|\\langle q|0\\rangle|^{2}\\text{,} \\\\\n",
    "      1 (\\text{outcome}-1), \\text{with probability } p_1=|\\langle q|1\\rangle|^{2}\\text{.}\n",
    "    \\end{cases}\n",
    "$$\n",
    "\n",
    "## Mid-circuit measurements\n",
    "\n",
    "Mid-circuit measurements are a key component of dynamic circuits. Prior to `qiskit-ibm-runtime` v0.43.0, `measure` was the only measurement instruction in Qiskit. Mid-circuit measurements, however, have different tuning requirements than _terminal_ measurements (measurements that happen at the end of a circuit). For example, you need to consider the instruction duration when tuning a mid-circuit measurement because longer instructions cause noisier circuits. You don't need to consider instruction duration for terminal measurements because there are no instructions after terminal measurements.\n",
    "\n",
    "\n",
    "In `qiskit-ibm-runtime` v0.43.0, the `MidCircuitMeasure` instruction was introduced. As the name suggests, it is a new measurement instruction that is optimized for mid-circuit on IBM&reg; QPUs.\n",
    "\n",
    "<Admonition type=\"note\">\n",
    "The `MidCircuitMeasure` instruction maps to the `measure_2` instruction reported in the backend's `supported_instructions`. However,  `measure_2` is not supported on all backends. Use `service.backends(filters=lambda b: \"measure_2\" in b.supported_instructions)` to find backends that support it.  New measurements might be added in the future, but this is not guarenteed.\n",
    "</Admonition>\n",
    "\n",
    "## Apply a measurement to a circuit\n",
    "\n",
    "There are several ways to apply measurements to a circuit:\n",
    "\n",
    "### `QuantumCircuit.measure` method\n",
    "\n",
    "Use the [`measure`](/docs/api/qiskit/qiskit.circuit.QuantumCircuit#measure) method to measure a [`QuantumCircuit`](/docs/api/qiskit/qiskit.circuit.QuantumCircuit#quantumcircuit-class).\n",
    "\n",
    "Examples:"
   ]
  },
  {
   "cell_type": "code",
   "execution_count": 1,
   "id": "6cc3aa2f-40a5-4191-8236-a5ffd2e64be0",
   "metadata": {},
   "outputs": [
    {
     "data": {
      "text/plain": [
       "<qiskit.circuit.instructionset.InstructionSet at 0x7feaa7cd2290>"
      ]
     },
     "execution_count": 1,
     "metadata": {},
     "output_type": "execute_result"
    }
   ],
   "source": [
    "from qiskit import QuantumCircuit\n",
    "\n",
    "qc = QuantumCircuit(5, 5)\n",
    "qc.x(0)\n",
    "qc.x(1)\n",
    "qc.x(4)\n",
    "qc.measure(\n",
    "    range(5), range(5)\n",
    ")  #  Measures all qubits into the corresponding clbit."
   ]
  },
  {
   "cell_type": "code",
   "execution_count": 2,
   "id": "5c629673-9000-47ae-8bd3-f3fef65f8b0c",
   "metadata": {},
   "outputs": [
    {
     "data": {
      "text/plain": [
       "<qiskit.circuit.instructionset.InstructionSet at 0x7feaa7c4d8d0>"
      ]
     },
     "execution_count": 2,
     "metadata": {},
     "output_type": "execute_result"
    }
   ],
   "source": [
    "from qiskit import QuantumCircuit\n",
    "\n",
    "qc = QuantumCircuit(3, 1)\n",
    "qc.x([0, 2])\n",
    "qc.measure(1, 0)  # Measure qubit 1 into the classical bit 0."
   ]
  },
  {
   "cell_type": "markdown",
   "id": "d909843d-9c23-4017-83d6-8a09fae4c067",
   "metadata": {},
   "source": [
    "### `Measure` class\n",
    "\n",
    "The Qiskit [Measure](/docs/api/qiskit/circuit#qiskit.circuit.Measure) class measures the specified qubits."
   ]
  },
  {
   "cell_type": "code",
   "execution_count": 3,
   "id": "b8855eed-8238-41ce-a45d-f8e81da05508",
   "metadata": {},
   "outputs": [
    {
     "data": {
      "text/plain": [
       "<qiskit.circuit.instructionset.InstructionSet at 0x7feaa7dc6260>"
      ]
     },
     "execution_count": 3,
     "metadata": {},
     "output_type": "execute_result"
    }
   ],
   "source": [
    "from qiskit.circuit import Measure\n",
    "\n",
    "qc = QuantumCircuit(3, 1)\n",
    "qc.x([0, 1])\n",
    "qc.append(Measure(), [0], [0])  # measure qubit 0 into clbit 0"
   ]
  },
  {
   "cell_type": "markdown",
   "id": "6583286c-d8e3-4adf-8bce-0e7d9dc3c44f",
   "metadata": {},
   "source": [
    "### `QuantumCircuit.measure_all` method\n",
    "\n",
    "To measure all qubits into the corresponding classical bits, use the [`measure_all`](/docs/api/qiskit/qiskit.circuit.QuantumCircuit#measure_all) method. By default, this method adds new classical bits in a `ClassicalRegister` to store these measurements."
   ]
  },
  {
   "cell_type": "code",
   "execution_count": 4,
   "id": "cac45158-7e3e-47b6-bc89-8ac3a4bc9539",
   "metadata": {},
   "outputs": [],
   "source": [
    "from qiskit import QuantumCircuit\n",
    "\n",
    "qc = QuantumCircuit(3, 1)\n",
    "qc.x([0, 2])\n",
    "qc.measure_all()  # Measure all qubits."
   ]
  },
  {
   "cell_type": "markdown",
   "id": "8b4a57d5-ffc9-4247-b39c-2e19ab2c185b",
   "metadata": {},
   "source": [
    "### `QuantumCircuit.measure_active` method\n",
    "\n",
    "To measure all qubits that are not idle, use the [`measure_active`](/docs/api/qiskit/qiskit.circuit.QuantumCircuit#measure_active) method. This method creates a new `ClassicalRegister` with a size equal to the number of non-idle qubits being measured."
   ]
  },
  {
   "cell_type": "code",
   "execution_count": 5,
   "id": "3161f70d-5c59-48fa-842f-624ce7ed0bbe",
   "metadata": {},
   "outputs": [],
   "source": [
    "from qiskit import QuantumCircuit\n",
    "\n",
    "qc = QuantumCircuit(3, 1)\n",
    "qc.x([0, 2])\n",
    "qc.measure_active()  # Measure qubits that are not idle, that is, qubits 0 and 2."
   ]
  },
  {
   "cell_type": "markdown",
   "id": "9fe80214-3025-4b7f-893d-083e403aa8fe",
   "metadata": {},
   "source": [
    "### `MidCircuitMeasure` method\n",
    "\n",
    "\n",
    "Use `MidCircuitMeasure` to apply a mid-circuit measurement (requires `qiskit-ibm-runtime` v0.43.0 or later).  While you can use `QuantumCircuit.measure` for a mid-circuit measurement, because of its design, `MidCircuitMeasure` is typically a better choice.  For example, it adds less overhead to your circuit than when using `QuantumCircuit.measure`."
   ]
  },
  {
   "cell_type": "code",
   "execution_count": 6,
   "id": "bbab9e32-bee2-475f-a5f2-114c499ade4c",
   "metadata": {},
   "outputs": [
    {
     "name": "stdout",
     "output_type": "stream",
     "text": [
      "     ┌───┐┌────────────┐\n",
      "q_0: ┤ X ├┤0           ├\n",
      "     └───┘│            │\n",
      "q_1: ─────┤  Measure_2 ├\n",
      "          │            │\n",
      "c_0: ═════╡0           ╞\n",
      "          └────────────┘\n",
      "c_1: ═══════════════════\n",
      "                        \n"
     ]
    }
   ],
   "source": [
    "from qiskit import QuantumCircuit\n",
    "from qiskit_ibm_runtime import QiskitRuntimeService\n",
    "from qiskit_ibm_runtime.circuit import MidCircuitMeasure\n",
    "from qiskit.circuit import Measure\n",
    "\n",
    "service = QiskitRuntimeService()\n",
    "backend = service.least_busy(operational=True, simulator=False)\n",
    "\n",
    "circ = QuantumCircuit(2, 2)\n",
    "circ.x(0)\n",
    "circ.append(MidCircuitMeasure(), [0], [0])\n",
    "# circ.measure([0], [0])\n",
    "# circ.measure_all()\n",
    "print(circ.draw(cregbundle=False))"
   ]
  },
  {
   "cell_type": "markdown",
   "id": "fce28504-1760-4f0e-b6f5-01d94955d9d4",
   "metadata": {},
   "source": [
    "<Admonition type=\"attention\" title=\"Important notes\">\n",
    "\n",
    "* There must be at least one classical register in order to use measurements.\n",
    "* The Sampler primitive requires circuit measurements. You can add circuit measurements with the Estimator primitive, but they are ignored.\n",
    "\n",
    "</Admonition>"
   ]
  },
  {
   "cell_type": "markdown",
   "id": "5b049296-7cd5-4074-8473-ad462744e270",
   "metadata": {},
   "source": [
    "## Next steps\n",
    "\n",
    "<Admonition type=\"tip\" title=\"Recommendations\">\n",
    "- [`Measure`](/docs/api/qiskit/circuit#qiskit.circuit.Measure) class\n",
    "- [`measure_all`](/docs/api/qiskit/qiskit.circuit.QuantumCircuit#measure_all) method\n",
    "- [`measure_active`](/docs/api/qiskit/qiskit.circuit.QuantumCircuit#measure_active) method\n",
    "- [`random_circuit`](/docs/api/qiskit/circuit_random#qiskit.circuit.random.random_circuit) method\n",
    "</Admonition>"
   ]
  }
 ],
 "metadata": {
  "description": "Learn how to measure qubits, including constraints on where measurements can be used.",
  "kernelspec": {
   "display_name": "Python 3",
   "language": "python",
   "name": "python3"
  },
  "language_info": {
   "codemirror_mode": {
    "name": "ipython",
    "version": 3
   },
   "file_extension": ".py",
   "mimetype": "text/x-python",
   "name": "python",
   "nbconvert_exporter": "python",
   "pygments_lexer": "ipython3",
   "version": "3"
  },
  "title": "Measure qubits"
 },
 "nbformat": 4,
 "nbformat_minor": 4
}
